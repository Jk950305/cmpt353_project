{
 "cells": [
  {
   "cell_type": "code",
   "execution_count": 1,
   "metadata": {},
   "outputs": [],
   "source": [
    "import pandas as pd\n",
    "import numpy as np\n",
    "import matplotlib.pyplot as plt\n",
    "import numpy as np\n",
    "import scipy.stats as stats\n",
    "from sklearn.pipeline import make_pipeline\n",
    "from sklearn.linear_model import LinearRegression\n",
    "from sklearn.preprocessing import MinMaxScaler, StandardScaler, FunctionTransformer\n",
    "from sklearn.model_selection import train_test_split\n",
    "from sklearn.utils import shuffle\n",
    "from sklearn.naive_bayes import GaussianNB\n",
    "from sklearn.tree import DecisionTreeClassifier"
   ]
  },
  {
   "cell_type": "code",
   "execution_count": 2,
   "metadata": {},
   "outputs": [],
   "source": [
    "pd.options.mode.chained_assignment = None\n",
    "data = pd.read_csv('survey_results_public.csv', low_memory=False)\n",
    "list = ['UndergradMajor', 'YearsCoding', 'CareerSatisfaction', 'ConvertedSalary',              \n",
    "       'StackOverflowParticipate']\n",
    "data = data.filter(list, axis = 1)\n",
    "data = data.dropna(axis = 0)"
   ]
  },
  {
   "cell_type": "code",
   "execution_count": 3,
   "metadata": {},
   "outputs": [],
   "source": [
    "def participation_to_val(x): \n",
    "    switcher = { \n",
    "        \"I have never participated in Q&A on Stack Overflow\": 0, \n",
    "        \"Less than once per month or monthly\": 1, \n",
    "        \"A few times per month or weekly\": 2, \n",
    "        \"A few times per week\": 3,\n",
    "        \"Daily or almost daily\": 4,\n",
    "        \"Multiple times per day\": 5\n",
    "    } \n",
    "    return switcher.get(x, \"error\")"
   ]
  },
  {
   "cell_type": "code",
   "execution_count": 4,
   "metadata": {},
   "outputs": [],
   "source": [
    "def satisfaction_to_val(x):\n",
    "    switcher = {\n",
    "        \"Extremely dissatisfied\": 1,\n",
    "        \"Moderately dissatisfied\": 2,\n",
    "        \"Slightly dissatisfied\": 3,\n",
    "        \"Neither satisfied nor dissatisfied\": 4,\n",
    "        \"Slightly satisfied\": 5,\n",
    "        \"Moderately satisfied\": 6,\n",
    "        \"Extremely satisfied\": 7\n",
    "    }\n",
    "    return switcher.get(x, \"error\")"
   ]
  },
  {
   "cell_type": "code",
   "execution_count": 5,
   "metadata": {},
   "outputs": [],
   "source": [
    "def years_to_val(x): \n",
    "    switcher = { \n",
    "        \"0-2 years\" : 1,\n",
    "        \"3-5 years\" : 4,\n",
    "        \"6-8 years\" : 7,\n",
    "        \"9-11 years\": 10, \n",
    "        \"12-14 years\": 13, \n",
    "        \"15-17 years\": 16, \n",
    "        \"18-20 years\": 19,\n",
    "        \"21-23 years\": 22,\n",
    "        \"24-26 years\": 25,\n",
    "        \"27-29 years\": 28,\n",
    "        \"30 or more years\": 30\n",
    "    } \n",
    "    return switcher.get(x, \"error\")"
   ]
  },
  {
   "cell_type": "code",
   "execution_count": 6,
   "metadata": {},
   "outputs": [],
   "source": [
    "def draw_line_graph(cs_x, ncs_x, cs_y, ncs_y, y_label, title):\n",
    "    plt.plot(ncs_x, ncs_y, 'r-', label='NON-CS Major')\n",
    "    plt.plot(cs_x, cs_y, 'b-', label='CS Major')\n",
    "    plt.title(title)\n",
    "    plt.xlabel('Years of coding')\n",
    "    plt.ylabel(y_label)\n",
    "    plt.yticks([])\n",
    "    plt.legend()"
   ]
  },
  {
   "cell_type": "code",
   "execution_count": 7,
   "metadata": {},
   "outputs": [],
   "source": [
    "def draw_histogram(cs_x, ncs_x, cs_y, ncs_y):\n",
    "    plt.figure(figsize = (20,5))\n",
    "    plt.subplot(1, 2, 1)\n",
    "    plt.bar(np.arange(len(cs_x)), cs_y, color = 'b')\n",
    "    plt.title(\"CS Major\")\n",
    "    plt.xticks(np.arange(len(cs_x)), cs_x)\n",
    "    plt.yticks([])\n",
    "    plt.subplot(1, 2, 2)\n",
    "    plt.bar(np.arange(len(ncs_x)), ncs_y, color = 'r')\n",
    "    plt.title(\"NON CS Major\")\n",
    "    plt.xticks(np.arange(len(ncs_x)), ncs_x)\n",
    "    plt.yticks([])\n",
    "    plt.show()"
   ]
  },
  {
   "cell_type": "code",
   "execution_count": 8,
   "metadata": {},
   "outputs": [],
   "source": [
    "def print_p_values(cs, ncs):\n",
    "    cs_normt_p_val = stats.normaltest(cs).pvalue\n",
    "    ncs_normt_p_val = stats.normaltest(ncs).pvalue\n",
    "    levene_p_val = stats.levene(cs, ncs).pvalue\n",
    "    ttest_p_val = stats.ttest_ind(cs, ncs).pvalue\n",
    "    mann_p_val = stats.mannwhitneyu(cs, ncs).pvalue\n",
    "\n",
    "    print(f\"CS Major normaltest p-value : {cs_normt_p_val:.3g}\")\n",
    "    print(f\"NON-CS Major normaltest p-value : {ncs_normt_p_val:.3g}\")\n",
    "    print(f\"levene test p-value : {levene_p_val:.3g}\")\n",
    "    print(f\"ttest p-value : {ttest_p_val:.3g}\")\n",
    "    print(f\"Mann–Whitney U-test p-value: {mann_p_val:.3g}\")"
   ]
  },
  {
   "cell_type": "code",
   "execution_count": 9,
   "metadata": {},
   "outputs": [],
   "source": [
    "data['YearsCoding_val'] = data['YearsCoding'].apply(years_to_val)\n",
    "data['AnnualSalary'] = data['ConvertedSalary']\n",
    "data['Satisfaction_val'] = data['CareerSatisfaction'].apply(satisfaction_to_val)\n",
    "data['StackOverflowParticipate_val'] = data['StackOverflowParticipate'].apply(participation_to_val)\n",
    "\n",
    "data_mod = data[['Satisfaction_val','AnnualSalary', 'StackOverflowParticipate_val','YearsCoding_val','UndergradMajor']]\n",
    "data_mod = data_mod.sort_values(\"YearsCoding_val\", ascending = True)\n",
    "\n",
    "cs_major = data_mod[data_mod['UndergradMajor'].str.contains('Computer')]\n",
    "non_cs_major = data_mod[~data_mod['UndergradMajor'].str.contains('Computer')]\n",
    "\n",
    "cs_major_copy = cs_major\n",
    "non_cs_major_copy = non_cs_major\n",
    "\n",
    "data_mod = data_mod.groupby(['YearsCoding_val']).mean()\n",
    "cs_major = cs_major.groupby(['YearsCoding_val']).mean()\n",
    "non_cs_major = non_cs_major.groupby(['YearsCoding_val']).mean()"
   ]
  },
  {
   "cell_type": "markdown",
   "metadata": {},
   "source": [
    "### Participation"
   ]
  },
  {
   "cell_type": "code",
   "execution_count": 10,
   "metadata": {},
   "outputs": [
    {
     "data": {
      "image/png": "[encoded data removed]",
      "text/plain": [
       "<Figure size 432x288 with 1 Axes>"
      ]
     },
     "metadata": {
      "needs_background": "light"
     },
     "output_type": "display_data"
    }
   ],
   "source": [
    "draw_line_graph(\n",
    "    cs_major.index,\n",
    "    non_cs_major.index,\n",
    "    cs_major.StackOverflowParticipate_val,\n",
    "    non_cs_major.StackOverflowParticipate_val,\n",
    "    'Participation (Avg)',\n",
    "    'YearsCoding vs Stackoverflow Participation'\n",
    ")"
   ]
  },
  {
   "cell_type": "code",
   "execution_count": 19,
   "metadata": {},
   "outputs": [
    {
     "data": {
      "image/png": "[encoded data removed]",
      "text/plain": [
       "<Figure size 1440x360 with 2 Axes>"
      ]
     },
     "metadata": {
      "needs_background": "light"
     },
     "output_type": "display_data"
    },
    {
     "name": "stdout",
     "output_type": "stream",
     "text": [
      "CS Major normaltest p-value : 0.919\n",
      "NON-CS Major normaltest p-value : 0.178\n",
      "levene test p-value : 0.388\n",
      "ttest p-value : 0.742\n",
      "Mann–Whitney U-test p-value: 0.448\n"
     ]
    }
   ],
   "source": [
    "draw_histogram(\n",
    "    cs_major.index, \n",
    "    non_cs_major.index, \n",
    "    cs_major.StackOverflowParticipate_val, \n",
    "    non_cs_major.StackOverflowParticipate_val\n",
    ")\n",
    "\n",
    "print_p_values(cs_major.StackOverflowParticipate_val, non_cs_major.StackOverflowParticipate_val)"
   ]
  },
  {
   "cell_type": "markdown",
   "metadata": {},
   "source": [
    "### Salary"
   ]
  },
  {
   "cell_type": "code",
   "execution_count": 12,
   "metadata": {},
   "outputs": [
    {
     "data": {
      "image/png": "[encoded data removed]",
      "text/plain": [
       "<Figure size 432x288 with 1 Axes>"
      ]
     },
     "metadata": {
      "needs_background": "light"
     },
     "output_type": "display_data"
    }
   ],
   "source": [
    "draw_line_graph(\n",
    "    cs_major.index,\n",
    "    non_cs_major.index,\n",
    "    cs_major.AnnualSalary,\n",
    "    non_cs_major.AnnualSalary,\n",
    "    'Salary',\n",
    "    'YearsCoding vs Salary'\n",
    ")"
   ]
  },
  {
   "cell_type": "code",
   "execution_count": 13,
   "metadata": {},
   "outputs": [
    {
     "data": {
      "image/png": "[encoded data removed]",
      "text/plain": [
       "<Figure size 1440x360 with 2 Axes>"
      ]
     },
     "metadata": {
      "needs_background": "light"
     },
     "output_type": "display_data"
    },
    {
     "name": "stdout",
     "output_type": "stream",
     "text": [
      "CS Major normaltest p-value : 0.475\n",
      "NON-CS Major normaltest p-value : 0.573\n",
      "levene test p-value : 0.576\n",
      "ttest p-value : 0.557\n",
      "Mann–Whitney U-test p-value: 0.3\n"
     ]
    }
   ],
   "source": [
    "draw_histogram(\n",
    "    cs_major.index, \n",
    "    non_cs_major.index, \n",
    "    cs_major.AnnualSalary, \n",
    "    non_cs_major.AnnualSalary\n",
    ")\n",
    "\n",
    "print_p_values(cs_major.AnnualSalary, non_cs_major.AnnualSalary)"
   ]
  },
  {
   "cell_type": "markdown",
   "metadata": {},
   "source": [
    "### Job Satisfaction"
   ]
  },
  {
   "cell_type": "code",
   "execution_count": 14,
   "metadata": {},
   "outputs": [
    {
     "data": {
      "image/png": "[encoded data removed]",
      "text/plain": [
       "<Figure size 432x288 with 1 Axes>"
      ]
     },
     "metadata": {
      "needs_background": "light"
     },
     "output_type": "display_data"
    }
   ],
   "source": [
    "draw_line_graph(\n",
    "    cs_major.index,\n",
    "    non_cs_major.index,\n",
    "    cs_major.Satisfaction_val,\n",
    "    non_cs_major.Satisfaction_val,\n",
    "    'Career Satisfaction',\n",
    "    'YearsCoding vs Satisfaction'\n",
    ")"
   ]
  },
  {
   "cell_type": "code",
   "execution_count": 15,
   "metadata": {},
   "outputs": [
    {
     "data": {
      "image/png": "[encoded data removed]",
      "text/plain": [
       "<Figure size 1440x360 with 2 Axes>"
      ]
     },
     "metadata": {
      "needs_background": "light"
     },
     "output_type": "display_data"
    },
    {
     "name": "stdout",
     "output_type": "stream",
     "text": [
      "CS Major normaltest p-value : 0.0245\n",
      "NON-CS Major normaltest p-value : 0.0248\n",
      "levene test p-value : 0.998\n",
      "ttest p-value : 0.932\n",
      "Mann–Whitney U-test p-value: 0.256\n"
     ]
    }
   ],
   "source": [
    "exponent = 16 #exponential transform\n",
    "cs_satisfaction = cs_major.Satisfaction_val ** exponent\n",
    "non_cs_satisfaction = non_cs_major.Satisfaction_val ** exponent\n",
    "\n",
    "draw_histogram(\n",
    "    cs_major.index, \n",
    "    non_cs_major.index, \n",
    "    cs_satisfaction, \n",
    "    non_cs_satisfaction\n",
    ")\n",
    "\n",
    "print_p_values(cs_satisfaction, non_cs_satisfaction)"
   ]
  },
  {
   "cell_type": "markdown",
   "metadata": {},
   "source": [
    "### Classification"
   ]
  },
  {
   "cell_type": "code",
   "execution_count": 16,
   "metadata": {},
   "outputs": [],
   "source": [
    "concated = shuffle(pd.concat([cs_major_copy, non_cs_major_copy]))\n",
    "concated.UndergradMajor.loc[concated.UndergradMajor.str.contains('Computer')] = 1\n",
    "concated.UndergradMajor.loc[concated.UndergradMajor != 1] = 0\n",
    "X = concated['AnnualSalary'].values.reshape(-1, 1)\n",
    "y = concated.UndergradMajor\n",
    "\n",
    "X_train, X_valid, y_train, y_valid = train_test_split(X,y)\n",
    "scores = pd.DataFrame(columns=['depth','train','valid'])\n",
    "\n",
    "for x in range(2,100,10):\n",
    "    model = make_pipeline(\n",
    "        MinMaxScaler(),\n",
    "        #GaussianNB()\n",
    "        DecisionTreeClassifier(max_depth=x)\n",
    "    )\n",
    "    model.fit(X_train, y_train)\n",
    "    train = model.score(X_train, y_train)\n",
    "    valid = model.score(X_valid, y_valid)\n",
    "    scores = scores.append(pd.to_numeric(pd.Series([x,train, valid], index=['depth','train','valid'])), ignore_index=True)\n",
    "    "
   ]
  },
  {
   "cell_type": "markdown",
   "metadata": {},
   "source": [
    "###### GaussianNB:\n",
    "train : 0.6388060800117773\n",
    "\n",
    "valid : 0.6322587767719143\n",
    "\n"
   ]
  },
  {
   "cell_type": "markdown",
   "metadata": {},
   "source": [
    "###### DecisionTreeClassifier:"
   ]
  },
  {
   "cell_type": "code",
   "execution_count": 17,
   "metadata": {},
   "outputs": [
    {
     "data": {
      "text/html": [
       "<div>\n",
       "<style scoped>\n",
       "    .dataframe tbody tr th:only-of-type {\n",
       "        vertical-align: middle;\n",
       "    }\n",
       "\n",
       "    .dataframe tbody tr th {\n",
       "        vertical-align: top;\n",
       "    }\n",
       "\n",
       "    .dataframe thead th {\n",
       "        text-align: right;\n",
       "    }\n",
       "</style>\n",
       "<table border=\"1\" class=\"dataframe\">\n",
       "  <thead>\n",
       "    <tr style=\"text-align: right;\">\n",
       "      <th></th>\n",
       "      <th>depth</th>\n",
       "      <th>train</th>\n",
       "      <th>valid</th>\n",
       "    </tr>\n",
       "  </thead>\n",
       "  <tbody>\n",
       "    <tr>\n",
       "      <th>0</th>\n",
       "      <td>2.0</td>\n",
       "      <td>0.636046</td>\n",
       "      <td>0.640539</td>\n",
       "    </tr>\n",
       "    <tr>\n",
       "      <th>1</th>\n",
       "      <td>12.0</td>\n",
       "      <td>0.645762</td>\n",
       "      <td>0.629940</td>\n",
       "    </tr>\n",
       "    <tr>\n",
       "      <th>2</th>\n",
       "      <td>22.0</td>\n",
       "      <td>0.669648</td>\n",
       "      <td>0.615368</td>\n",
       "    </tr>\n",
       "    <tr>\n",
       "      <th>3</th>\n",
       "      <td>32.0</td>\n",
       "      <td>0.696294</td>\n",
       "      <td>0.596379</td>\n",
       "    </tr>\n",
       "    <tr>\n",
       "      <th>4</th>\n",
       "      <td>42.0</td>\n",
       "      <td>0.706305</td>\n",
       "      <td>0.589755</td>\n",
       "    </tr>\n",
       "    <tr>\n",
       "      <th>5</th>\n",
       "      <td>52.0</td>\n",
       "      <td>0.706673</td>\n",
       "      <td>0.589865</td>\n",
       "    </tr>\n",
       "    <tr>\n",
       "      <th>6</th>\n",
       "      <td>62.0</td>\n",
       "      <td>0.706673</td>\n",
       "      <td>0.589865</td>\n",
       "    </tr>\n",
       "    <tr>\n",
       "      <th>7</th>\n",
       "      <td>72.0</td>\n",
       "      <td>0.706673</td>\n",
       "      <td>0.589865</td>\n",
       "    </tr>\n",
       "    <tr>\n",
       "      <th>8</th>\n",
       "      <td>82.0</td>\n",
       "      <td>0.706673</td>\n",
       "      <td>0.589865</td>\n",
       "    </tr>\n",
       "    <tr>\n",
       "      <th>9</th>\n",
       "      <td>92.0</td>\n",
       "      <td>0.706673</td>\n",
       "      <td>0.589865</td>\n",
       "    </tr>\n",
       "  </tbody>\n",
       "</table>\n",
       "</div>"
      ],
      "text/plain": [
       "   depth     train     valid\n",
       "0    2.0  0.636046  0.640539\n",
       "1   12.0  0.645762  0.629940\n",
       "2   22.0  0.669648  0.615368\n",
       "3   32.0  0.696294  0.596379\n",
       "4   42.0  0.706305  0.589755\n",
       "5   52.0  0.706673  0.589865\n",
       "6   62.0  0.706673  0.589865\n",
       "7   72.0  0.706673  0.589865\n",
       "8   82.0  0.706673  0.589865\n",
       "9   92.0  0.706673  0.589865"
      ]
     },
     "execution_count": 17,
     "metadata": {},
     "output_type": "execute_result"
    }
   ],
   "source": [
    "scores"
   ]
  }
 ],
 "metadata": {
  "kernelspec": {
   "display_name": "Python 3",
   "language": "python",
   "name": "python3"
  },
  "language_info": {
   "codemirror_mode": {
    "name": "ipython",
    "version": 3
   },
   "file_extension": ".py",
   "mimetype": "text/x-python",
   "name": "python",
   "nbconvert_exporter": "python",
   "pygments_lexer": "ipython3",
   "version": "3.7.4"
  }
 },
 "nbformat": 4,
 "nbformat_minor": 2
}
